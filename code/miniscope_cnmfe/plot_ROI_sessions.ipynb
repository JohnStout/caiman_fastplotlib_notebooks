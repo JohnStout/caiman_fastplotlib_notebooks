{
 "cells": [
  {
   "cell_type": "markdown",
   "id": "d4a129fa-fc21-4091-bea0-c2ebf4a58726",
   "metadata": {},
   "source": [
    "# Play ROI and videos from two separate sessions"
   ]
  },
  {
   "cell_type": "code",
   "execution_count": 1,
   "id": "67960f0a-8a80-4122-8280-c25f4fb366df",
   "metadata": {},
   "outputs": [
    {
     "name": "stdout",
     "output_type": "stream",
     "text": [
      "caiman package loaded...\n",
      "Suite2p not detected...\n"
     ]
    },
    {
     "name": "stderr",
     "output_type": "stream",
     "text": [
      "/var/folders/f3/11w5x6bs32gd1xc4lh41qdnr0000gp/T/ipykernel_54848/2638164036.py:62: MatplotlibDeprecationWarning: The get_cmap function was deprecated in Matplotlib 3.7 and will be removed two minor releases later. Use ``matplotlib.colormaps[name]`` or ``matplotlib.colormaps.get_cmap(obj)`` instead.\n",
      "  jet = mpl.cm.get_cmap('jet')\n"
     ]
    }
   ],
   "source": [
    "import bokeh.plotting as bpl\n",
    "import cv2\n",
    "import glob\n",
    "import holoviews as hv\n",
    "from IPython import get_ipython\n",
    "import logging\n",
    "import matplotlib.pyplot as plt\n",
    "import numpy as np\n",
    "import os\n",
    "import psutil\n",
    "import pandas as pd\n",
    "import tifffile\n",
    "\n",
    "import caiman as cm\n",
    "from caiman.source_extraction import cnmf\n",
    "from caiman.source_extraction.cnmf.cnmf import load_CNMF\n",
    "from caiman.utils.utils import download_demo\n",
    "from caiman.utils.visualization import inspect_correlation_pnr, nb_inspect_correlation_pnr\n",
    "from caiman.motion_correction import MotionCorrect\n",
    "from caiman.source_extraction.cnmf import params as params\n",
    "from caiman.utils.visualization import plot_contours, nb_view_patches, nb_plot_contour\n",
    "from caiman.utils.visualization import view_quilt\n",
    "from caiman.utils.visualization import get_contours\n",
    "from caiman.motion_correction import high_pass_filter_space\n",
    "from caiman.summary_images import correlation_pnr\n",
    "\n",
    "from ipywidgets import IntSlider, VBox\n",
    "import fastplotlib as fpl\n",
    "from fastplotlib.widgets import ImageWidget\n",
    "\n",
    "# load local package/\n",
    "import sys\n",
    "root_dir = os.path.split(os.getcwd())[0] # get root\n",
    "utils_dir = os.path.join(root_dir,'utils') # get utils folder path\n",
    "sys.path.append(utils_dir) # add it to system path (not ideal) - doing this to reduce pip installs for local lab usage\n",
    "import plot_tools as fpl_tools # import movie\n",
    "\n",
    "def autocluster():\n",
    "    #%% start a cluster for parallel processing (if a cluster already exists it will be closed and a new session will be opened)\n",
    "    print(f\"You have {psutil.cpu_count()} CPUs available in your current environment\")\n",
    "    num_processors_to_use = None\n",
    "    print(\"Setting up new cluster\")\n",
    "    _, cluster, n_processes = cm.cluster.setup_cluster(backend='multiprocessing', \n",
    "                                                     n_processes=num_processors_to_use, \n",
    "                                                     ignore_preexisting=False)\n",
    "    print(f\"Successfully set up cluster with {n_processes} processes\")\n",
    "    return cluster, n_processes\n",
    "\n",
    "# Figure Style settings for notebook.\n",
    "import matplotlib as mpl\n",
    "mpl.rcParams.update({\n",
    "    'axes.spines.left': False,\n",
    "    'axes.spines.bottom': False,\n",
    "    'axes.spines.top': False,\n",
    "    'axes.spines.right': False,\n",
    "    'legend.frameon': False,\n",
    "    'figure.subplot.wspace': .01,\n",
    "    'figure.subplot.hspace': .01,\n",
    "    'figure.figsize': (9, 9),\n",
    "    'ytick.major.left': False,\n",
    "})\n",
    "jet = mpl.cm.get_cmap('jet')\n",
    "jet.set_bad(color='k')"
   ]
  },
  {
   "cell_type": "markdown",
   "id": "a6f6e7ab-b816-4103-905a-1ee7c4a2f1f8",
   "metadata": {},
   "source": [
    "`fnames` refers to the paths to output from VizResults_miniscope\n",
    "\n",
    "**Note** if you do not have such paths, then you didn't finish walking through the VizResults_miniscope notebook"
   ]
  },
  {
   "cell_type": "code",
   "execution_count": 2,
   "id": "422b07c6-ba45-4c11-9032-a924bf637bde",
   "metadata": {},
   "outputs": [
    {
     "data": {
      "text/plain": [
       "[None, None, None, None]"
      ]
     },
     "execution_count": 2,
     "metadata": {},
     "output_type": "execute_result"
    }
   ],
   "source": [
    "fnames = [r'/Users/js0403/miniscope/PFC-Neurons/122D/AAV2/3-Syn-GCaMP8f/2024_02_06/12_21_26/miniscopeDeviceName/full_movie_20240320222511_cnmfe_new_new',\n",
    "          r'/Users/js0403/miniscope/PFC-Neurons/122D/AAV2/3-Syn-GCaMP8f/2024_03_05/12_51_33/miniscopeDeviceName/full_movie_20240320224747_cnmfe_new',\n",
    "          r'/Users/js0403/miniscope/PFC-Neurons/122D/AAV2/3-Syn-GCaMP8f/2024_03_15/10_57_51/miniscopeDeviceName/full_movie_20240320185923_cnmfe_new',\n",
    "          r'/Users/js0403/miniscope/PFC-Neurons/122D/AAV2/3-Syn-GCaMP8f/2024_03_21/15_01_43/miniscopeDeviceName/full_movie_20240322113218_cnmfe_new']\n",
    "savepath = '/Users/js0403/miniscope/Figures'\n",
    "\n",
    "# load data as list\n",
    "ca_data = []; mask_data =[]; corr_data = []\n",
    "[ca_data.append(np.load(os.path.join(i,'ca_traces.npy'),allow_pickle=True)) for i in fnames]\n",
    "[mask_data.append(np.load(os.path.join(i,'mask.npy'),allow_pickle=True)) for i in fnames]\n",
    "[corr_data.append(np.load(os.path.join(i,'corr_image.npy'),allow_pickle=True)) for i in fnames]"
   ]
  },
  {
   "cell_type": "markdown",
   "id": "6cf49ce8-0ddb-46db-b267-fb9b82c4b51c",
   "metadata": {},
   "source": [
    "Get footprints/mask"
   ]
  },
  {
   "cell_type": "code",
   "execution_count": 3,
   "id": "df8b013a-59c3-45ee-8e31-0b9cdf824f7e",
   "metadata": {},
   "outputs": [],
   "source": [
    "mask_list=[]; footprint_list=[]; mask_contours=[]\n",
    "for i in range(len(ca_data)):\n",
    "    # get mask\n",
    "    mask_list.append(ca_data[i].item()['mask'])\n",
    "    mask_list[i][np.where(mask_list[i]==0)]=np.nan # set 0s to nan\n",
    "\n",
    "    # get footprint and regen mask\n",
    "    footprint_list.append(ca_data[i].item()['component_footprint'])\n",
    "    #rand_scale = np.random.rand(1)*100\n",
    "    for fi in range(len(footprint_list[i])):\n",
    "        idx_above_zero = np.where(footprint_list[i][fi]>0)\n",
    "        #footprint_list[i][fi][idx_above_zero]=np.random.rand(1)*100*(i+1)\n",
    "        #footprint_list[i][fi][idx_above_zero]=rand_scale[0]\n",
    "    footprint_list[i]=np.nanmax(np.array(footprint_list[i]),axis=0)\n",
    "    #footprint_list[i][np.where(footprint_list[i]==0)]=np.nan\n",
    "\n",
    "    # set to nan for mask_contour\n",
    "    mask_contours.append(ca_data[i].item()['mask_contour'])\n",
    "    #mask_contours[i][np.where(mask_contours[i]==0)]=np.nan\n",
    "    #mask_contours[i][np.where(mask_contours[i]>0)]=(i+1)*100"
   ]
  },
  {
   "cell_type": "markdown",
   "id": "85075321-ad7d-44ae-a78b-f5540be51868",
   "metadata": {},
   "source": [
    "Plot multisession array and save"
   ]
  },
  {
   "cell_type": "code",
   "execution_count": 4,
   "id": "46dff4bd-1448-4d8d-ade5-63ec71ce220b",
   "metadata": {},
   "outputs": [
    {
     "name": "stdout",
     "output_type": "stream",
     "text": [
      "saved to: /Users/js0403/miniscope/Figures\n"
     ]
    },
    {
     "data": {
      "image/png": "[encoded data removed]",
      "text/plain": [
       "<Figure size 900x900 with 4 Axes>"
      ]
     },
     "metadata": {},
     "output_type": "display_data"
    }
   ],
   "source": [
    "%matplotlib inline\n",
    "fig, ax = plt.subplots(nrows=1,ncols=len(footprint_list))\n",
    "for i in range(len(footprint_list)):\n",
    "    ax[i].imshow(footprint_list[i],cmap='gray')\n",
    "fig.savefig(os.path.join(savepath,'multisess.eps'),dpi=1000,facecolor='w')\n",
    "print(\"saved to:\",savepath)"
   ]
  },
  {
   "cell_type": "markdown",
   "id": "648f5ee4-d8bf-4a26-9079-24b7735aa86a",
   "metadata": {},
   "source": [
    "plot ROI overlaid on the final correlation plot"
   ]
  },
  {
   "cell_type": "code",
   "execution_count": 5,
   "id": "d624d7b0-ef00-4fe4-8f38-98eb8566cf83",
   "metadata": {},
   "outputs": [
    {
     "data": {
      "text/plain": [
       "14"
      ]
     },
     "execution_count": 5,
     "metadata": {},
     "output_type": "execute_result"
    }
   ],
   "source": [
    "len(ca_data[i].item()['component_contour'])"
   ]
  },
  {
   "cell_type": "markdown",
   "id": "f36c3fc4-9f65-4f44-8494-a3dfea9e748e",
   "metadata": {},
   "source": [
    "Create a figure with overlapping ROI, plot in a separate window and save out"
   ]
  },
  {
   "cell_type": "code",
   "execution_count": 8,
   "id": "8aba9283-e332-467b-872b-b2ac7f31be84",
   "metadata": {},
   "outputs": [],
   "source": [
    "%matplotlib qt \n",
    "plt.imshow(corr_data[-1],cmap='gray')\n",
    "c_list = ['b','r','y','g']\n",
    "for i in range(len(ca_data)):\n",
    "    rois = ca_data[i].item()['component_contour']\n",
    "    for ri in range(len(rois)):\n",
    "        roi = rois[ri]\n",
    "        plt.plot(roi.T[0,:],roi.T[1,:],c=c_list[i],linewidth=1)\n",
    "\n",
    "#plt.xlim([50 450])\n",
    "#plt.ylim([100 400])"
   ]
  },
  {
   "cell_type": "code",
   "execution_count": null,
   "id": "3136a859-6f6a-4b82-a60b-6d31e33e8b6f",
   "metadata": {},
   "outputs": [],
   "source": []
  },
  {
   "cell_type": "code",
   "execution_count": 2,
   "id": "f451abd9-5948-4a4a-99e0-ea272da7ab8e",
   "metadata": {},
   "outputs": [
    {
     "name": "stdout",
     "output_type": "stream",
     "text": [
      "You have 12 CPUs available in your current environment\n",
      "Setting up new cluster\n",
      "Successfully set up cluster with 11 processes\n",
      "Working in: /Users/js0403/miniscope/PFC-Neurons/122D/AAV2/3-Syn-GCaMP8f/2024_02_06/12_21_26/miniscopeDeviceName\n",
      "Loading: /Users/js0403/miniscope/PFC-Neurons/122D/AAV2/3-Syn-GCaMP8f/2024_02_06/12_21_26/miniscopeDeviceName/motioncorr_d1_600_d2_600_d3_1_order_C_frames_2851.mmap\n",
      "*****\n",
      "Total number of components: 15\n",
      "Number accepted: 11\n",
      "Number rejected: 4\n",
      "Working in: /Users/js0403/miniscope/PFC-Neurons/122D/AAV2/3-Syn-GCaMP8f/2024_03_05/12_51_33/miniscopeDeviceName\n",
      "Loading: /Users/js0403/miniscope/PFC-Neurons/122D/AAV2/3-Syn-GCaMP8f/2024_03_05/12_51_33/miniscopeDeviceName/motioncorr_d1_600_d2_600_d3_1_order_C_frames_3000.mmap\n",
      "*****\n",
      "Total number of components: 35\n",
      "Number accepted: 20\n",
      "Number rejected: 15\n",
      "Working in: /Users/js0403/miniscope/PFC-Neurons/122D/AAV2/3-Syn-GCaMP8f/2024_03_15/10_57_51/miniscopeDeviceName\n",
      "Loading: /Users/js0403/miniscope/PFC-Neurons/122D/AAV2/3-Syn-GCaMP8f/2024_03_15/10_57_51/miniscopeDeviceName/motioncorr_d1_600_d2_600_d3_1_order_C_frames_3829.mmap\n",
      "*****\n",
      "Total number of components: 29\n",
      "Number accepted: 18\n",
      "Number rejected: 11\n"
     ]
    }
   ],
   "source": [
    "\n",
    "# start cluster\n",
    "if 'cluster' in locals():\n",
    "    cluster.terminate()\n",
    "cluster, n_processes = autocluster()\n",
    "\n",
    "# load data\n",
    "images_list = []; cm_list = []\n",
    "for i in hdf5_fnames:\n",
    "    # move directories\n",
    "    root_path = os.path.split(i)[0] # extract root\n",
    "    mov_path = os.path.join(root_path,'full_movie.tif')\n",
    "    print(\"Working in:\",root_path)\n",
    "\n",
    "    # load caiman objects\n",
    "    cnmfe_model = load_CNMF(i)\n",
    "\n",
    "    # load memmory mapped file\n",
    "    print(\"Loading:\",cnmfe_model.mmap_file)\n",
    "    Yr, dims, num_frames = cm.load_memmap(cnmfe_model.mmap_file)\n",
    "    images = np.reshape(Yr.T, [num_frames] + list(dims), order='F')\n",
    "    images_list.append(images) # cache\n",
    "\n",
    "    # Threshold data for CNMFE\n",
    "    min_SNR = 3      # SNR threshold - this could be lowered as needed, but you will get noise\n",
    "    rval_thr = 0.99  # spatial correlation threshold - You should generally keep this\n",
    "    \n",
    "    # extract params\n",
    "    cnmfe_params = cnmfe_model.params.__dict__\n",
    "    \n",
    "    # We need to reassign the fnames variable\n",
    "    try: cnmfe_model.params.data['fnames'] = [cnmfe_model.params.data['fnames'][0].decode('UTF-8')]; \n",
    "    except: pass # dont change\n",
    "    fr = cnmfe_model.params.data['fr'] # frame rate\n",
    "    \n",
    "    # changing parameters\n",
    "    quality_params = {'min_SNR': min_SNR,\n",
    "                      'rval_thr': rval_thr,\n",
    "                      'use_cnn': False}\n",
    "    cnmfe_model.params.change_params(params_dict=quality_params)\n",
    "    \n",
    "    # This is where the parameters above get put to test\n",
    "    cnmfe_model.estimates.evaluate_components(images, cnmfe_model.params, dview=cluster)\n",
    "    print('*****')\n",
    "    print(f\"Total number of components: {len(cnmfe_model.estimates.C)}\")\n",
    "    print(f\"Number accepted: {len(cnmfe_model.estimates.idx_components)}\")\n",
    "    print(f\"Number rejected: {len(cnmfe_model.estimates.idx_components_bad)}\")\n",
    "\n",
    "    # store caiman cnmf object\n",
    "    cm_list.append(cnmfe_model)"
   ]
  },
  {
   "cell_type": "code",
   "execution_count": 12,
   "id": "348769d2-0ac9-4626-8a1f-d7673e1bb436",
   "metadata": {},
   "outputs": [
    {
     "data": {
      "application/vnd.jupyter.widget-view+json": {
       "model_id": "82e32e58a96147038ebcde7eea2f8a01",
       "version_major": 2,
       "version_minor": 0
      },
      "text/plain": [
       "RFBOutputContext()"
      ]
     },
     "metadata": {},
     "output_type": "display_data"
    },
    {
     "name": "stderr",
     "output_type": "stream",
     "text": [
      "/Users/js0403/anaconda3/envs/caiman/lib/python3.11/site-packages/fastplotlib/graphics/_features/_base.py:34: UserWarning: converting float64 array to float32\n",
      "  warn(f\"converting {array.dtype} array to float32\")\n"
     ]
    },
    {
     "data": {
      "text/plain": [
       "JupyterOutputContext(children=(JupyterWgpuCanvas(), IpywidgetToolBar(children=(Button(icon='expand-arrows-alt', layout=Layout(width='auto'), style=ButtonStyle(), tooltip='auto-scale scene'), Button(icon='align-center', layout=Layout(width='auto'), style=ButtonStyle(), tooltip='auto-center scene'), ToggleButton(value=True, icon='hand-pointer', layout=Layout(width='auto'), tooltip='panzoom controller'), ToggleButton(value=True, description='1:1', layout=Layout(width='auto'), style=ToggleButtonStyle(font_weight='bold'), tooltip='maintain aspect'), Button(icon='arrow-down', layout=Layout(width='auto'), style=ButtonStyle(), tooltip='y-axis direction'), Button(icon='draw-polygon', layout=Layout(width='auto'), style=ButtonStyle(), tooltip='add PolygonSelector'), ToggleButton(value=False, icon='video', layout=Layout(width='auto'), tooltip='record'), Dropdown(description='Subplots:', layout=Layout(width='200px'), options=('(0, 0)',), value='(0, 0)'))), IpywidgetImageWidgetToolbar(children=(HBox(children=(Button(icon='adjust', layout=Layout(width='auto'), style=ButtonStyle(), tooltip='reset vmin/vmax'), Button(description='reset', icon='adjust', layout=Layout(width='auto'), style=ButtonStyle(), tooltip='reset vmin/vmax and reset histogram using current frame'), Play(value=0, description='play/pause', interval=10, max=2850), BoundedIntText(value=1, description='Step Size:', layout=Layout(width='150px'), max=2850, min=1, tooltip='set slider step'), BoundedIntText(value=100, description='Speed', layout=Layout(width='150px'), max=1000, min=1, step=50, tooltip='Playback speed, this is NOT framerate.\\nArbitrary units between 1 - 1,000'))), IntSlider(value=0, description='dimension: t', max=2850)))))"
      ]
     },
     "execution_count": 12,
     "metadata": {},
     "output_type": "execute_result"
    }
   ],
   "source": [
    "# instantiate object\n",
    "cnmf_plotter = fpl_tools.play_caiman_movie(images=images_list[0],cnmf_object=cm_list[0])\n",
    "mov = cnmf_plotter.play_movie_draw_roi(components_type='accepted',show_movie=False)\n",
    "mov.show(sidecar=True)"
   ]
  },
  {
   "cell_type": "code",
   "execution_count": 13,
   "id": "390a98f5-76fa-4e6d-b5f9-58bbb307fffc",
   "metadata": {},
   "outputs": [
    {
     "data": {
      "application/vnd.jupyter.widget-view+json": {
       "model_id": "e971698e368049c6a6dc3ed4a996f852",
       "version_major": 2,
       "version_minor": 0
      },
      "text/plain": [
       "RFBOutputContext()"
      ]
     },
     "metadata": {},
     "output_type": "display_data"
    },
    {
     "data": {
      "text/plain": [
       "JupyterOutputContext(children=(JupyterWgpuCanvas(), IpywidgetToolBar(children=(Button(icon='expand-arrows-alt', layout=Layout(width='auto'), style=ButtonStyle(), tooltip='auto-scale scene'), Button(icon='align-center', layout=Layout(width='auto'), style=ButtonStyle(), tooltip='auto-center scene'), ToggleButton(value=True, icon='hand-pointer', layout=Layout(width='auto'), tooltip='panzoom controller'), ToggleButton(value=True, description='1:1', layout=Layout(width='auto'), style=ToggleButtonStyle(font_weight='bold'), tooltip='maintain aspect'), Button(icon='arrow-down', layout=Layout(width='auto'), style=ButtonStyle(), tooltip='y-axis direction'), Button(icon='draw-polygon', layout=Layout(width='auto'), style=ButtonStyle(), tooltip='add PolygonSelector'), ToggleButton(value=False, icon='video', layout=Layout(width='auto'), tooltip='record'), Dropdown(description='Subplots:', layout=Layout(width='200px'), options=('(0, 0)',), value='(0, 0)'))), IpywidgetImageWidgetToolbar(children=(HBox(children=(Button(icon='adjust', layout=Layout(width='auto'), style=ButtonStyle(), tooltip='reset vmin/vmax'), Button(description='reset', icon='adjust', layout=Layout(width='auto'), style=ButtonStyle(), tooltip='reset vmin/vmax and reset histogram using current frame'), Play(value=0, description='play/pause', interval=10, max=2999), BoundedIntText(value=1, description='Step Size:', layout=Layout(width='150px'), max=2999, min=1, tooltip='set slider step'), BoundedIntText(value=100, description='Speed', layout=Layout(width='150px'), max=1000, min=1, step=50, tooltip='Playback speed, this is NOT framerate.\\nArbitrary units between 1 - 1,000'))), IntSlider(value=0, description='dimension: t', max=2999)))))"
      ]
     },
     "execution_count": 13,
     "metadata": {},
     "output_type": "execute_result"
    }
   ],
   "source": [
    "cnmf_plotter = fpl_tools.play_caiman_movie(images=images_list[1],cnmf_object=cm_list[1])\n",
    "mov1 = cnmf_plotter.play_movie_draw_roi(components_type='accepted',show_movie=False)\n",
    "mov1.show(sidecar=True)"
   ]
  },
  {
   "cell_type": "code",
   "execution_count": 14,
   "id": "745f4764-53c6-47a6-9662-22a2818014d5",
   "metadata": {},
   "outputs": [
    {
     "data": {
      "application/vnd.jupyter.widget-view+json": {
       "model_id": "ba934c6dc0db4b8b9efe44d6b4b10d15",
       "version_major": 2,
       "version_minor": 0
      },
      "text/plain": [
       "RFBOutputContext()"
      ]
     },
     "metadata": {},
     "output_type": "display_data"
    },
    {
     "data": {
      "text/plain": [
       "JupyterOutputContext(children=(JupyterWgpuCanvas(), IpywidgetToolBar(children=(Button(icon='expand-arrows-alt', layout=Layout(width='auto'), style=ButtonStyle(), tooltip='auto-scale scene'), Button(icon='align-center', layout=Layout(width='auto'), style=ButtonStyle(), tooltip='auto-center scene'), ToggleButton(value=True, icon='hand-pointer', layout=Layout(width='auto'), tooltip='panzoom controller'), ToggleButton(value=True, description='1:1', layout=Layout(width='auto'), style=ToggleButtonStyle(font_weight='bold'), tooltip='maintain aspect'), Button(icon='arrow-down', layout=Layout(width='auto'), style=ButtonStyle(), tooltip='y-axis direction'), Button(icon='draw-polygon', layout=Layout(width='auto'), style=ButtonStyle(), tooltip='add PolygonSelector'), ToggleButton(value=False, icon='video', layout=Layout(width='auto'), tooltip='record'), Dropdown(description='Subplots:', layout=Layout(width='200px'), options=('(0, 0)',), value='(0, 0)'))), IpywidgetImageWidgetToolbar(children=(HBox(children=(Button(icon='adjust', layout=Layout(width='auto'), style=ButtonStyle(), tooltip='reset vmin/vmax'), Button(description='reset', icon='adjust', layout=Layout(width='auto'), style=ButtonStyle(), tooltip='reset vmin/vmax and reset histogram using current frame'), Play(value=0, description='play/pause', interval=10, max=3828), BoundedIntText(value=1, description='Step Size:', layout=Layout(width='150px'), max=3828, min=1, tooltip='set slider step'), BoundedIntText(value=100, description='Speed', layout=Layout(width='150px'), max=1000, min=1, step=50, tooltip='Playback speed, this is NOT framerate.\\nArbitrary units between 1 - 1,000'))), IntSlider(value=0, description='dimension: t', max=3828)))))"
      ]
     },
     "execution_count": 14,
     "metadata": {},
     "output_type": "execute_result"
    }
   ],
   "source": [
    "cnmf_plotter = fpl_tools.play_caiman_movie(images=images_list[2],cnmf_object=cm_list[2])\n",
    "mov1 = cnmf_plotter.play_movie_draw_roi(components_type='accepted',show_movie=False)\n",
    "mov1.show(sidecar=True)"
   ]
  },
  {
   "cell_type": "markdown",
   "id": "6809072d-ca26-4a3d-89c1-946f06a3f0e0",
   "metadata": {},
   "source": [
    "# Now lets do some plotting"
   ]
  },
  {
   "cell_type": "code",
   "execution_count": null,
   "id": "74d51e45-858e-4eec-b1fb-35dc9263e720",
   "metadata": {},
   "outputs": [],
   "source": []
  }
 ],
 "metadata": {
  "kernelspec": {
   "display_name": "Python 3 (ipykernel)",
   "language": "python",
   "name": "python3"
  },
  "language_info": {
   "codemirror_mode": {
    "name": "ipython",
    "version": 3
   },
   "file_extension": ".py",
   "mimetype": "text/x-python",
   "name": "python",
   "nbconvert_exporter": "python",
   "pygments_lexer": "ipython3",
   "version": "3.9.17"
  }
 },
 "nbformat": 4,
 "nbformat_minor": 5
}
