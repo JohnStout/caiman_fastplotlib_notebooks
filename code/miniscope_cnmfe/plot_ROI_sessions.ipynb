{
 "cells": [
  {
   "cell_type": "markdown",
   "id": "d4a129fa-fc21-4091-bea0-c2ebf4a58726",
   "metadata": {},
   "source": [
    "# Play ROI and videos from two separate sessions"
   ]
  },
  {
   "cell_type": "code",
   "execution_count": 1,
   "id": "67960f0a-8a80-4122-8280-c25f4fb366df",
   "metadata": {},
   "outputs": [
    {
     "name": "stdout",
     "output_type": "stream",
     "text": [
      "caiman package loaded...\n",
      "Suite2p not detected...\n"
     ]
    }
   ],
   "source": [
    "import bokeh.plotting as bpl\n",
    "import cv2\n",
    "import glob\n",
    "import holoviews as hv\n",
    "from IPython import get_ipython\n",
    "import logging\n",
    "import matplotlib.pyplot as plt\n",
    "import numpy as np\n",
    "import os\n",
    "import psutil\n",
    "import pandas as pd\n",
    "import tifffile\n",
    "\n",
    "import caiman as cm\n",
    "from caiman.source_extraction import cnmf\n",
    "from caiman.source_extraction.cnmf.cnmf import load_CNMF\n",
    "from caiman.utils.utils import download_demo\n",
    "from caiman.utils.visualization import inspect_correlation_pnr, nb_inspect_correlation_pnr\n",
    "from caiman.motion_correction import MotionCorrect\n",
    "from caiman.source_extraction.cnmf import params as params\n",
    "from caiman.utils.visualization import plot_contours, nb_view_patches, nb_plot_contour\n",
    "from caiman.utils.visualization import view_quilt\n",
    "from caiman.utils.visualization import get_contours\n",
    "from caiman.motion_correction import high_pass_filter_space\n",
    "from caiman.summary_images import correlation_pnr\n",
    "\n",
    "from ipywidgets import IntSlider, VBox\n",
    "import fastplotlib as fpl\n",
    "from fastplotlib.widgets import ImageWidget\n",
    "\n",
    "# load local package/\n",
    "import sys\n",
    "root_dir = os.path.split(os.getcwd())[0] # get root\n",
    "utils_dir = os.path.join(root_dir,'utils') # get utils folder path\n",
    "sys.path.append(utils_dir) # add it to system path (not ideal) - doing this to reduce pip installs for local lab usage\n",
    "import plot_tools as fpl_tools # import movie\n",
    "\n",
    "def autocluster():\n",
    "    #%% start a cluster for parallel processing (if a cluster already exists it will be closed and a new session will be opened)\n",
    "    print(f\"You have {psutil.cpu_count()} CPUs available in your current environment\")\n",
    "    num_processors_to_use = None\n",
    "    print(\"Setting up new cluster\")\n",
    "    _, cluster, n_processes = cm.cluster.setup_cluster(backend='multiprocessing', \n",
    "                                                     n_processes=num_processors_to_use, \n",
    "                                                     ignore_preexisting=False)\n",
    "    print(f\"Successfully set up cluster with {n_processes} processes\")\n",
    "    return cluster, n_processes"
   ]
  },
  {
   "cell_type": "markdown",
   "id": "a6f6e7ab-b816-4103-905a-1ee7c4a2f1f8",
   "metadata": {},
   "source": [
    "`hdf5_fnames` refers to the paths to .hdf5 outputs from CaImAn"
   ]
  },
  {
   "cell_type": "code",
   "execution_count": 2,
   "id": "f451abd9-5948-4a4a-99e0-ea272da7ab8e",
   "metadata": {},
   "outputs": [
    {
     "name": "stdout",
     "output_type": "stream",
     "text": [
      "You have 12 CPUs available in your current environment\n",
      "Setting up new cluster\n",
      "Successfully set up cluster with 11 processes\n",
      "Working in: /Users/js0403/miniscope/PFC-Neurons/122D/AAV2/3-Syn-GCaMP8f/2024_02_06/12_21_26/miniscopeDeviceName\n",
      "Loading: /Users/js0403/miniscope/PFC-Neurons/122D/AAV2/3-Syn-GCaMP8f/2024_02_06/12_21_26/miniscopeDeviceName/motioncorr_d1_600_d2_600_d3_1_order_C_frames_2851.mmap\n",
      "*****\n",
      "Total number of components: 15\n",
      "Number accepted: 11\n",
      "Number rejected: 4\n",
      "Working in: /Users/js0403/miniscope/PFC-Neurons/122D/AAV2/3-Syn-GCaMP8f/2024_03_05/12_51_33/miniscopeDeviceName\n",
      "Loading: /Users/js0403/miniscope/PFC-Neurons/122D/AAV2/3-Syn-GCaMP8f/2024_03_05/12_51_33/miniscopeDeviceName/motioncorr_d1_600_d2_600_d3_1_order_C_frames_3000.mmap\n",
      "*****\n",
      "Total number of components: 35\n",
      "Number accepted: 20\n",
      "Number rejected: 15\n",
      "Working in: /Users/js0403/miniscope/PFC-Neurons/122D/AAV2/3-Syn-GCaMP8f/2024_03_15/10_57_51/miniscopeDeviceName\n",
      "Loading: /Users/js0403/miniscope/PFC-Neurons/122D/AAV2/3-Syn-GCaMP8f/2024_03_15/10_57_51/miniscopeDeviceName/motioncorr_d1_600_d2_600_d3_1_order_C_frames_3829.mmap\n",
      "*****\n",
      "Total number of components: 29\n",
      "Number accepted: 18\n",
      "Number rejected: 11\n"
     ]
    }
   ],
   "source": [
    "hdf5_fnames = [r'/Users/js0403/miniscope/PFC-Neurons/122D/AAV2/3-Syn-GCaMP8f/2024_02_06/12_21_26/miniscopeDeviceName/full_movie_20240320222511_cnmfe.hdf5',\n",
    "               r'/Users/js0403/miniscope/PFC-Neurons/122D/AAV2/3-Syn-GCaMP8f/2024_03_05/12_51_33/miniscopeDeviceName/full_movie_20240320224747_cnmfe.hdf5',\n",
    "              r'/Users/js0403/miniscope/PFC-Neurons/122D/AAV2/3-Syn-GCaMP8f/2024_03_15/10_57_51/miniscopeDeviceName/full_movie_20240320185923_cnmfe.hdf5']\n",
    "\n",
    "# start cluster\n",
    "if 'cluster' in locals():\n",
    "    cluster.terminate()\n",
    "cluster, n_processes = autocluster()\n",
    "\n",
    "# load data\n",
    "images_list = []; cm_list = []\n",
    "for i in hdf5_fnames:\n",
    "    # move directories\n",
    "    root_path = os.path.split(i)[0] # extract root\n",
    "    mov_path = os.path.join(root_path,'full_movie.tif')\n",
    "    print(\"Working in:\",root_path)\n",
    "\n",
    "    # load caiman objects\n",
    "    cnmfe_model = load_CNMF(i)\n",
    "\n",
    "    # load memmory mapped file\n",
    "    print(\"Loading:\",cnmfe_model.mmap_file)\n",
    "    Yr, dims, num_frames = cm.load_memmap(cnmfe_model.mmap_file)\n",
    "    images = np.reshape(Yr.T, [num_frames] + list(dims), order='F')\n",
    "    images_list.append(images) # cache\n",
    "\n",
    "    # Threshold data for CNMFE\n",
    "    min_SNR = 3      # SNR threshold - this could be lowered as needed, but you will get noise\n",
    "    rval_thr = 0.99  # spatial correlation threshold - You should generally keep this\n",
    "    \n",
    "    # extract params\n",
    "    cnmfe_params = cnmfe_model.params.__dict__\n",
    "    \n",
    "    # We need to reassign the fnames variable\n",
    "    try: cnmfe_model.params.data['fnames'] = [cnmfe_model.params.data['fnames'][0].decode('UTF-8')]; \n",
    "    except: pass # dont change\n",
    "    fr = cnmfe_model.params.data['fr'] # frame rate\n",
    "    \n",
    "    # changing parameters\n",
    "    quality_params = {'min_SNR': min_SNR,\n",
    "                      'rval_thr': rval_thr,\n",
    "                      'use_cnn': False}\n",
    "    cnmfe_model.params.change_params(params_dict=quality_params)\n",
    "    \n",
    "    # This is where the parameters above get put to test\n",
    "    cnmfe_model.estimates.evaluate_components(images, cnmfe_model.params, dview=cluster)\n",
    "    print('*****')\n",
    "    print(f\"Total number of components: {len(cnmfe_model.estimates.C)}\")\n",
    "    print(f\"Number accepted: {len(cnmfe_model.estimates.idx_components)}\")\n",
    "    print(f\"Number rejected: {len(cnmfe_model.estimates.idx_components_bad)}\")\n",
    "\n",
    "    # store caiman cnmf object\n",
    "    cm_list.append(cnmfe_model)"
   ]
  },
  {
   "cell_type": "code",
   "execution_count": 12,
   "id": "348769d2-0ac9-4626-8a1f-d7673e1bb436",
   "metadata": {},
   "outputs": [
    {
     "data": {
      "application/vnd.jupyter.widget-view+json": {
       "model_id": "82e32e58a96147038ebcde7eea2f8a01",
       "version_major": 2,
       "version_minor": 0
      },
      "text/plain": [
       "RFBOutputContext()"
      ]
     },
     "metadata": {},
     "output_type": "display_data"
    },
    {
     "name": "stderr",
     "output_type": "stream",
     "text": [
      "/Users/js0403/anaconda3/envs/caiman/lib/python3.11/site-packages/fastplotlib/graphics/_features/_base.py:34: UserWarning: converting float64 array to float32\n",
      "  warn(f\"converting {array.dtype} array to float32\")\n"
     ]
    },
    {
     "data": {
      "text/plain": [
       "JupyterOutputContext(children=(JupyterWgpuCanvas(), IpywidgetToolBar(children=(Button(icon='expand-arrows-alt', layout=Layout(width='auto'), style=ButtonStyle(), tooltip='auto-scale scene'), Button(icon='align-center', layout=Layout(width='auto'), style=ButtonStyle(), tooltip='auto-center scene'), ToggleButton(value=True, icon='hand-pointer', layout=Layout(width='auto'), tooltip='panzoom controller'), ToggleButton(value=True, description='1:1', layout=Layout(width='auto'), style=ToggleButtonStyle(font_weight='bold'), tooltip='maintain aspect'), Button(icon='arrow-down', layout=Layout(width='auto'), style=ButtonStyle(), tooltip='y-axis direction'), Button(icon='draw-polygon', layout=Layout(width='auto'), style=ButtonStyle(), tooltip='add PolygonSelector'), ToggleButton(value=False, icon='video', layout=Layout(width='auto'), tooltip='record'), Dropdown(description='Subplots:', layout=Layout(width='200px'), options=('(0, 0)',), value='(0, 0)'))), IpywidgetImageWidgetToolbar(children=(HBox(children=(Button(icon='adjust', layout=Layout(width='auto'), style=ButtonStyle(), tooltip='reset vmin/vmax'), Button(description='reset', icon='adjust', layout=Layout(width='auto'), style=ButtonStyle(), tooltip='reset vmin/vmax and reset histogram using current frame'), Play(value=0, description='play/pause', interval=10, max=2850), BoundedIntText(value=1, description='Step Size:', layout=Layout(width='150px'), max=2850, min=1, tooltip='set slider step'), BoundedIntText(value=100, description='Speed', layout=Layout(width='150px'), max=1000, min=1, step=50, tooltip='Playback speed, this is NOT framerate.\\nArbitrary units between 1 - 1,000'))), IntSlider(value=0, description='dimension: t', max=2850)))))"
      ]
     },
     "execution_count": 12,
     "metadata": {},
     "output_type": "execute_result"
    }
   ],
   "source": [
    "# instantiate object\n",
    "cnmf_plotter = fpl_tools.play_caiman_movie(images=images_list[0],cnmf_object=cm_list[0])\n",
    "mov = cnmf_plotter.play_movie_draw_roi(components_type='accepted',show_movie=False)\n",
    "mov.show(sidecar=True)"
   ]
  },
  {
   "cell_type": "code",
   "execution_count": 13,
   "id": "390a98f5-76fa-4e6d-b5f9-58bbb307fffc",
   "metadata": {},
   "outputs": [
    {
     "data": {
      "application/vnd.jupyter.widget-view+json": {
       "model_id": "e971698e368049c6a6dc3ed4a996f852",
       "version_major": 2,
       "version_minor": 0
      },
      "text/plain": [
       "RFBOutputContext()"
      ]
     },
     "metadata": {},
     "output_type": "display_data"
    },
    {
     "data": {
      "text/plain": [
       "JupyterOutputContext(children=(JupyterWgpuCanvas(), IpywidgetToolBar(children=(Button(icon='expand-arrows-alt', layout=Layout(width='auto'), style=ButtonStyle(), tooltip='auto-scale scene'), Button(icon='align-center', layout=Layout(width='auto'), style=ButtonStyle(), tooltip='auto-center scene'), ToggleButton(value=True, icon='hand-pointer', layout=Layout(width='auto'), tooltip='panzoom controller'), ToggleButton(value=True, description='1:1', layout=Layout(width='auto'), style=ToggleButtonStyle(font_weight='bold'), tooltip='maintain aspect'), Button(icon='arrow-down', layout=Layout(width='auto'), style=ButtonStyle(), tooltip='y-axis direction'), Button(icon='draw-polygon', layout=Layout(width='auto'), style=ButtonStyle(), tooltip='add PolygonSelector'), ToggleButton(value=False, icon='video', layout=Layout(width='auto'), tooltip='record'), Dropdown(description='Subplots:', layout=Layout(width='200px'), options=('(0, 0)',), value='(0, 0)'))), IpywidgetImageWidgetToolbar(children=(HBox(children=(Button(icon='adjust', layout=Layout(width='auto'), style=ButtonStyle(), tooltip='reset vmin/vmax'), Button(description='reset', icon='adjust', layout=Layout(width='auto'), style=ButtonStyle(), tooltip='reset vmin/vmax and reset histogram using current frame'), Play(value=0, description='play/pause', interval=10, max=2999), BoundedIntText(value=1, description='Step Size:', layout=Layout(width='150px'), max=2999, min=1, tooltip='set slider step'), BoundedIntText(value=100, description='Speed', layout=Layout(width='150px'), max=1000, min=1, step=50, tooltip='Playback speed, this is NOT framerate.\\nArbitrary units between 1 - 1,000'))), IntSlider(value=0, description='dimension: t', max=2999)))))"
      ]
     },
     "execution_count": 13,
     "metadata": {},
     "output_type": "execute_result"
    }
   ],
   "source": [
    "cnmf_plotter = fpl_tools.play_caiman_movie(images=images_list[1],cnmf_object=cm_list[1])\n",
    "mov1 = cnmf_plotter.play_movie_draw_roi(components_type='accepted',show_movie=False)\n",
    "mov1.show(sidecar=True)"
   ]
  },
  {
   "cell_type": "code",
   "execution_count": 14,
   "id": "745f4764-53c6-47a6-9662-22a2818014d5",
   "metadata": {},
   "outputs": [
    {
     "data": {
      "application/vnd.jupyter.widget-view+json": {
       "model_id": "ba934c6dc0db4b8b9efe44d6b4b10d15",
       "version_major": 2,
       "version_minor": 0
      },
      "text/plain": [
       "RFBOutputContext()"
      ]
     },
     "metadata": {},
     "output_type": "display_data"
    },
    {
     "data": {
      "text/plain": [
       "JupyterOutputContext(children=(JupyterWgpuCanvas(), IpywidgetToolBar(children=(Button(icon='expand-arrows-alt', layout=Layout(width='auto'), style=ButtonStyle(), tooltip='auto-scale scene'), Button(icon='align-center', layout=Layout(width='auto'), style=ButtonStyle(), tooltip='auto-center scene'), ToggleButton(value=True, icon='hand-pointer', layout=Layout(width='auto'), tooltip='panzoom controller'), ToggleButton(value=True, description='1:1', layout=Layout(width='auto'), style=ToggleButtonStyle(font_weight='bold'), tooltip='maintain aspect'), Button(icon='arrow-down', layout=Layout(width='auto'), style=ButtonStyle(), tooltip='y-axis direction'), Button(icon='draw-polygon', layout=Layout(width='auto'), style=ButtonStyle(), tooltip='add PolygonSelector'), ToggleButton(value=False, icon='video', layout=Layout(width='auto'), tooltip='record'), Dropdown(description='Subplots:', layout=Layout(width='200px'), options=('(0, 0)',), value='(0, 0)'))), IpywidgetImageWidgetToolbar(children=(HBox(children=(Button(icon='adjust', layout=Layout(width='auto'), style=ButtonStyle(), tooltip='reset vmin/vmax'), Button(description='reset', icon='adjust', layout=Layout(width='auto'), style=ButtonStyle(), tooltip='reset vmin/vmax and reset histogram using current frame'), Play(value=0, description='play/pause', interval=10, max=3828), BoundedIntText(value=1, description='Step Size:', layout=Layout(width='150px'), max=3828, min=1, tooltip='set slider step'), BoundedIntText(value=100, description='Speed', layout=Layout(width='150px'), max=1000, min=1, step=50, tooltip='Playback speed, this is NOT framerate.\\nArbitrary units between 1 - 1,000'))), IntSlider(value=0, description='dimension: t', max=3828)))))"
      ]
     },
     "execution_count": 14,
     "metadata": {},
     "output_type": "execute_result"
    }
   ],
   "source": [
    "cnmf_plotter = fpl_tools.play_caiman_movie(images=images_list[2],cnmf_object=cm_list[2])\n",
    "mov1 = cnmf_plotter.play_movie_draw_roi(components_type='accepted',show_movie=False)\n",
    "mov1.show(sidecar=True)"
   ]
  },
  {
   "cell_type": "markdown",
   "id": "6809072d-ca26-4a3d-89c1-946f06a3f0e0",
   "metadata": {},
   "source": [
    "# Now lets do some plotting"
   ]
  },
  {
   "cell_type": "code",
   "execution_count": null,
   "id": "74d51e45-858e-4eec-b1fb-35dc9263e720",
   "metadata": {},
   "outputs": [],
   "source": []
  }
 ],
 "metadata": {
  "kernelspec": {
   "display_name": "Python 3 (ipykernel)",
   "language": "python",
   "name": "python3"
  },
  "language_info": {
   "codemirror_mode": {
    "name": "ipython",
    "version": 3
   },
   "file_extension": ".py",
   "mimetype": "text/x-python",
   "name": "python",
   "nbconvert_exporter": "python",
   "pygments_lexer": "ipython3",
   "version": "3.11.7"
  }
 },
 "nbformat": 4,
 "nbformat_minor": 5
}
