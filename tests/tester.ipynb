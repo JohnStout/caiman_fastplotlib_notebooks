{
 "cells": [
  {
   "cell_type": "markdown",
   "id": "86517a1a-3f77-4cfb-bd02-96dd8f921698",
   "metadata": {},
   "source": [
    "# This is a test notebook \n",
    "\n",
    "Here, we are using the **data_endoscope.tif** from `.../caiman_data`\n",
    "\n",
    "This code assumes that you have already run CNMFE using the **demo_notebook** and that you have **saved** the outputs\n",
    "\n",
    "This code relies on plot_tools, a file with the object `play_cnmf_movie` which you must instantiate using your `images` variable and your `cnmf_model` object\n",
    "\n",
    "-John Stout"
   ]
  },
  {
   "cell_type": "code",
   "execution_count": 1,
   "id": "ec38055f-4b99-4fc6-a15d-c0d39e41f7b4",
   "metadata": {},
   "outputs": [
    {
     "name": "stdout",
     "output_type": "stream",
     "text": [
      "You have 12 CPUs available in your current environment\n",
      "Setting up new cluster\n",
      "Successfully set up cluster with 11 processes\n"
     ]
    }
   ],
   "source": [
    "# load plot_tools in the code/utils folder\n",
    "import os\n",
    "import sys\n",
    "root_dir = os.path.split(os.getcwd())[0] # get root\n",
    "utils_dir = os.path.join(root_dir,'code','utils') # get utils folder path\n",
    "sys.path.append(utils_dir) # add it to system path (not ideal) - doing this to reduce pip installs for local lab usage\n",
    "import plot_tools as fpl_tools # import movie\n",
    "\n",
    "# rest of the packages...\n",
    "import cv2\n",
    "import glob\n",
    "import logging\n",
    "import numpy as np\n",
    "import tifffile\n",
    "import caiman as cm\n",
    "from caiman.source_extraction.cnmf.cnmf import load_CNMF\n",
    "import psutil\n",
    "\n",
    "# set up parallel processing\n",
    "print(f\"You have {psutil.cpu_count()} CPUs available in your current environment\")\n",
    "num_processors_to_use = None\n",
    "if 'cluster' in locals():  # 'locals' contains list of current local variables\n",
    "    print('Closing previous cluster')\n",
    "    cm.stop_server(dview=cluster)\n",
    "print(\"Setting up new cluster\")\n",
    "_, cluster, n_processes = cm.cluster.setup_cluster(backend='multiprocessing', \n",
    "                                                 n_processes=num_processors_to_use, \n",
    "                                                 ignore_preexisting=False)\n",
    "print(f\"Successfully set up cluster with {n_processes} processes\")"
   ]
  },
  {
   "cell_type": "markdown",
   "id": "b8955bde-dcbb-4d4b-b526-48e702766ef7",
   "metadata": {},
   "source": [
    "# Load in .hdf5 files from CNMFE output\n",
    "\n",
    "Change `filepath` to be the path to your .tif endoscopic data"
   ]
  },
  {
   "cell_type": "code",
   "execution_count": 2,
   "id": "5ae108e9-7513-4cae-9b4a-e941914d4ba5",
   "metadata": {},
   "outputs": [],
   "source": [
    "filepath = r'/Users/js0403/caiman_data/example_movies/data_endoscope.tif'"
   ]
  },
  {
   "cell_type": "code",
   "execution_count": 4,
   "id": "41d6681e-b4a3-406c-b45f-4a040fd4c625",
   "metadata": {},
   "outputs": [
    {
     "name": "stdout",
     "output_type": "stream",
     "text": [
      "['data_endoscope.tif_cnm_2023-08-24-141055.hdf5', 'data_endoscope.tif_cnm_2023-08-24-141500.hdf5', 'data_endoscope.tif_cnm_2023-08-24-134329.hdf5', 'data_endoscope.tif_cnm_2023-08-24-125221.hdf5', 'data_endoscope.tif_cnm_2023-08-24-132423.hdf5', 'data_endoscope.tif_cnm_2023-08-24-135150.hdf5', 'data_endoscope.tif_cnm_2023-08-24-132953.hdf5', 'data_endoscope.tif_cnm_2023-08-24-115533.hdf5', 'data_endoscope.tif_cnm_2023-08-24-141636.hdf5', 'data_endoscope.tif_cnm_2023-08-23-122931.hdf5', 'data_endoscope.tif_cnm_2023-08-24-144024.hdf5', 'data_endoscope.tif_cnm_2023-08-24-134500.hdf5', 'data_endoscope.tif_cnm_2023-08-24-130851.hdf5', 'data_endoscope.tif_cnm_2023-08-24-133431.hdf5', 'data_endoscopecnmfe_results.hdf5', 'data_endoscope.tif_cnm_2023-08-24-144234.hdf5']\n"
     ]
    },
    {
     "name": "stdin",
     "output_type": "stream",
     "text": [
      "Enter which CNMF file to load based on the output above: data_endoscope.tif_cnm_2023-08-24-144234.hdf5\n"
     ]
    },
    {
     "name": "stdout",
     "output_type": "stream",
     "text": [
      "Successfully loaded CNMFE model\n",
      "Successfully loaded data\n"
     ]
    }
   ],
   "source": [
    "# load cnmf file (hdf5 file)\n",
    "root_path = os.path.split(filepath)[0]\n",
    "cnmf_files = [i for i in os.listdir(root_path) if '.hdf5' in i]\n",
    "if len(cnmf_files) > 1:\n",
    "    print(cnmf_files)\n",
    "    path_to_load = input(\"Enter which CNMF file to load based on the output above:\")\n",
    "\n",
    "# CNMFE model\n",
    "cnmfe_model = load_CNMF(os.path.join(root_path,path_to_load))\n",
    "print(f\"Successfully loaded CNMFE model\")\n",
    "\n",
    "# load motion corrected data\n",
    "Yr, dims, num_frames = cm.load_memmap(cnmfe_model.mmap_file)\n",
    "images = np.reshape(Yr.T, [num_frames] + list(dims), order='F')\n",
    "print(f\"Successfully loaded data\")"
   ]
  },
  {
   "cell_type": "markdown",
   "id": "6a9c2614-dee8-4895-bf2a-9843cc00b3c1",
   "metadata": {},
   "source": [
    "# Component evaluation"
   ]
  },
  {
   "cell_type": "code",
   "execution_count": 10,
   "id": "7e7a1cac-d8e3-4c15-92dd-c9cd2c7ffeb6",
   "metadata": {},
   "outputs": [
    {
     "name": "stdout",
     "output_type": "stream",
     "text": [
      "Components detected. Filetype is likely a curated version. If this is not true, contact John.\n"
     ]
    },
    {
     "name": "stdin",
     "output_type": "stream",
     "text": [
      "Would you like to reset your components? [y/n] Y\n"
     ]
    },
    {
     "name": "stdout",
     "output_type": "stream",
     "text": [
      "*****\n",
      "Total number of components: 158\n",
      "Number accepted: 100\n",
      "Number rejected: 58\n"
     ]
    }
   ],
   "source": [
    "# Threshold data for CNMFE\n",
    "min_SNR = 3      # SNR threshold - this could be lowered as needed, but you will get noise\n",
    "rval_thr = 0.99  # spatial correlation threshold - You should generally keep this\n",
    "\n",
    "# extract params\n",
    "cnmfe_params = cnmfe_model.params.__dict__\n",
    "\n",
    "# We need to reassign the fnames variable\n",
    "try: cnmfe_model.params.data['fnames'] = [cnmfe_model.params.data['fnames'][0].decode('UTF-8')]; \n",
    "except: pass # dont change\n",
    "fr = cnmfe_model.params.data['fr'] # frame rate\n",
    "\n",
    "# changing parameters\n",
    "quality_params = {'min_SNR': min_SNR,\n",
    "                  'rval_thr': rval_thr,\n",
    "                  'use_cnn': False}\n",
    "cnmfe_model.params.change_params(params_dict=quality_params)\n",
    "\n",
    "# This is where the parameters above get put to test\n",
    "if cnmfe_model.estimates.idx_components is None:\n",
    "    cnmfe_model.estimates.evaluate_components(images, cnmfe_model.params, dview=cluster)\n",
    "else:\n",
    "    print(\"Components detected. Filetype is likely a curated version. If this is not true, contact John.\")\n",
    "    reset_comp = input(\"Would you like to reset your components? [y/n]\")\n",
    "    if 'y' in reset_comp:\n",
    "        cnmfe_model.estimates.evaluate_components(images, cnmfe_model.params, dview=cluster)        \n",
    "    \n",
    "print('*****')\n",
    "print(f\"Total number of components: {len(cnmfe_model.estimates.C)}\")\n",
    "print(f\"Number accepted: {len(cnmfe_model.estimates.idx_components)}\")\n",
    "print(f\"Number rejected: {len(cnmfe_model.estimates.idx_components_bad)}\")"
   ]
  },
  {
   "cell_type": "markdown",
   "id": "c238d5e6-33dd-4e45-93b4-2c758ba7700c",
   "metadata": {},
   "source": [
    "# Play full movie"
   ]
  },
  {
   "cell_type": "code",
   "execution_count": 11,
   "id": "60cbbf6c-2bfd-416b-ac30-9ee47353278d",
   "metadata": {},
   "outputs": [
    {
     "data": {
      "application/vnd.jupyter.widget-view+json": {
       "model_id": "bbd59c578f5c47ffb39639ce7e3a4b07",
       "version_major": 2,
       "version_minor": 0
      },
      "text/plain": [
       "RFBOutputContext()"
      ]
     },
     "metadata": {},
     "output_type": "display_data"
    },
    {
     "name": "stderr",
     "output_type": "stream",
     "text": [
      "/Users/js0403/anaconda3/envs/caiman/lib/python3.11/site-packages/fastplotlib/graphics/_features/_base.py:34: UserWarning: converting float64 array to float32\n",
      "  warn(f\"converting {array.dtype} array to float32\")\n"
     ]
    },
    {
     "data": {
      "text/plain": [
       "JupyterOutputContext(children=(JupyterWgpuCanvas(), IpywidgetToolBar(children=(Button(icon='expand-arrows-alt', layout=Layout(width='auto'), style=ButtonStyle(), tooltip='auto-scale scene'), Button(icon='align-center', layout=Layout(width='auto'), style=ButtonStyle(), tooltip='auto-center scene'), ToggleButton(value=True, icon='hand-pointer', layout=Layout(width='auto'), tooltip='panzoom controller'), ToggleButton(value=True, description='1:1', layout=Layout(width='auto'), style=ToggleButtonStyle(font_weight='bold'), tooltip='maintain aspect'), Button(icon='arrow-down', layout=Layout(width='auto'), style=ButtonStyle(), tooltip='y-axis direction'), Button(icon='draw-polygon', layout=Layout(width='auto'), style=ButtonStyle(), tooltip='add PolygonSelector'), ToggleButton(value=False, icon='video', layout=Layout(width='auto'), tooltip='record'), Dropdown(description='Subplots:', layout=Layout(width='200px'), options=('(0, 0)',), value='(0, 0)'))), IpywidgetImageWidgetToolbar(children=(HBox(children=(Button(icon='adjust', layout=Layout(width='auto'), style=ButtonStyle(), tooltip='reset vmin/vmax'), Button(description='reset', icon='adjust', layout=Layout(width='auto'), style=ButtonStyle(), tooltip='reset vmin/vmax and reset histogram using current frame'), Play(value=0, description='play/pause', interval=10, max=999), BoundedIntText(value=1, description='Step Size:', layout=Layout(width='150px'), max=999, min=1, tooltip='set slider step'), BoundedIntText(value=100, description='Speed', layout=Layout(width='150px'), max=1000, min=1, step=50, tooltip='Playback speed, this is NOT framerate.\\nArbitrary units between 1 - 1,000'))), IntSlider(value=0, description='dimension: t', max=999)))))"
      ]
     },
     "execution_count": 11,
     "metadata": {},
     "output_type": "execute_result"
    }
   ],
   "source": [
    "# plot movie\n",
    "iw_mov = fpl_tools.play_movie(images)\n",
    "iw_mov.show(sidecar=True)"
   ]
  },
  {
   "cell_type": "markdown",
   "id": "6feb1040-86a3-459f-a056-7460196d36ae",
   "metadata": {},
   "source": [
    "# Play full movie with ROI\n",
    "You can set `components_type` as such:\n",
    "\n",
    "`components_type = 'accepted'` to visualize accepted components\n",
    "\n",
    "`components_type = 'rejected'` to visualize rejected components\n",
    "\n",
    "`components_type = 'both'` to visualize all components"
   ]
  },
  {
   "cell_type": "code",
   "execution_count": 12,
   "id": "71306f0b-ae45-4d93-bfc0-bf5fdb4376bc",
   "metadata": {},
   "outputs": [
    {
     "data": {
      "application/vnd.jupyter.widget-view+json": {
       "model_id": "39e4431a7261453ebf2b2814c95b7e60",
       "version_major": 2,
       "version_minor": 0
      },
      "text/plain": [
       "RFBOutputContext()"
      ]
     },
     "metadata": {},
     "output_type": "display_data"
    },
    {
     "data": {
      "text/plain": [
       "JupyterOutputContext(children=(JupyterWgpuCanvas(), IpywidgetToolBar(children=(Button(icon='expand-arrows-alt', layout=Layout(width='auto'), style=ButtonStyle(), tooltip='auto-scale scene'), Button(icon='align-center', layout=Layout(width='auto'), style=ButtonStyle(), tooltip='auto-center scene'), ToggleButton(value=True, icon='hand-pointer', layout=Layout(width='auto'), tooltip='panzoom controller'), ToggleButton(value=True, description='1:1', layout=Layout(width='auto'), style=ToggleButtonStyle(font_weight='bold'), tooltip='maintain aspect'), Button(icon='arrow-down', layout=Layout(width='auto'), style=ButtonStyle(), tooltip='y-axis direction'), Button(icon='draw-polygon', layout=Layout(width='auto'), style=ButtonStyle(), tooltip='add PolygonSelector'), ToggleButton(value=False, icon='video', layout=Layout(width='auto'), tooltip='record'), Dropdown(description='Subplots:', layout=Layout(width='200px'), options=('(0, 0)',), value='(0, 0)'))), IpywidgetImageWidgetToolbar(children=(HBox(children=(Button(icon='adjust', layout=Layout(width='auto'), style=ButtonStyle(), tooltip='reset vmin/vmax'), Button(description='reset', icon='adjust', layout=Layout(width='auto'), style=ButtonStyle(), tooltip='reset vmin/vmax and reset histogram using current frame'), Play(value=0, description='play/pause', interval=10, max=999), BoundedIntText(value=1, description='Step Size:', layout=Layout(width='150px'), max=999, min=1, tooltip='set slider step'), BoundedIntText(value=100, description='Speed', layout=Layout(width='150px'), max=1000, min=1, step=50, tooltip='Playback speed, this is NOT framerate.\\nArbitrary units between 1 - 1,000'))), IntSlider(value=0, description='dimension: t', max=999)))))"
      ]
     },
     "execution_count": 12,
     "metadata": {},
     "output_type": "execute_result"
    }
   ],
   "source": [
    "# instantiate object\n",
    "cnmf_plotter = fpl_tools.play_cnmf_movie(images=images,cnmf_object=cnmfe_model)\n",
    "mov = cnmf_plotter.play_movie_draw_roi(components_type='accepted')\n",
    "mov.show(sidecar=True)"
   ]
  },
  {
   "cell_type": "code",
   "execution_count": 14,
   "id": "c9b3ca9f-61b9-433b-941b-8410e1e48471",
   "metadata": {},
   "outputs": [
    {
     "data": {
      "application/vnd.jupyter.widget-view+json": {
       "model_id": "fb2eb16eafc14d448c4082dea647ff68",
       "version_major": 2,
       "version_minor": 0
      },
      "text/plain": [
       "RFBOutputContext()"
      ]
     },
     "metadata": {},
     "output_type": "display_data"
    },
    {
     "data": {
      "text/plain": [
       "JupyterOutputContext(children=(JupyterWgpuCanvas(), IpywidgetToolBar(children=(Button(icon='expand-arrows-alt', layout=Layout(width='auto'), style=ButtonStyle(), tooltip='auto-scale scene'), Button(icon='align-center', layout=Layout(width='auto'), style=ButtonStyle(), tooltip='auto-center scene'), ToggleButton(value=True, icon='hand-pointer', layout=Layout(width='auto'), tooltip='panzoom controller'), ToggleButton(value=True, description='1:1', layout=Layout(width='auto'), style=ToggleButtonStyle(font_weight='bold'), tooltip='maintain aspect'), Button(icon='arrow-down', layout=Layout(width='auto'), style=ButtonStyle(), tooltip='y-axis direction'), Button(icon='draw-polygon', layout=Layout(width='auto'), style=ButtonStyle(), tooltip='add PolygonSelector'), ToggleButton(value=False, icon='video', layout=Layout(width='auto'), tooltip='record'), Dropdown(description='Subplots:', layout=Layout(width='200px'), options=('(0, 0)',), value='(0, 0)'))), IpywidgetImageWidgetToolbar(children=(HBox(children=(Button(icon='adjust', layout=Layout(width='auto'), style=ButtonStyle(), tooltip='reset vmin/vmax'), Button(description='reset', icon='adjust', layout=Layout(width='auto'), style=ButtonStyle(), tooltip='reset vmin/vmax and reset histogram using current frame'), Play(value=0, description='play/pause', interval=10, max=999), BoundedIntText(value=1, description='Step Size:', layout=Layout(width='150px'), max=999, min=1, tooltip='set slider step'), BoundedIntText(value=100, description='Speed', layout=Layout(width='150px'), max=1000, min=1, step=50, tooltip='Playback speed, this is NOT framerate.\\nArbitrary units between 1 - 1,000'))), IntSlider(value=0, description='dimension: t', max=999)))))"
      ]
     },
     "execution_count": 14,
     "metadata": {},
     "output_type": "execute_result"
    }
   ],
   "source": [
    "mov = cnmf_plotter.play_movie_draw_roi(components_type='both')\n",
    "mov.show(sidecar=True)"
   ]
  },
  {
   "cell_type": "markdown",
   "id": "69a11833-c393-4ecb-b3d8-5a854dc83569",
   "metadata": {},
   "source": [
    "# Play the gaussian filtered movie with your ROI"
   ]
  },
  {
   "cell_type": "code",
   "execution_count": 15,
   "id": "36c62511-9ef5-44f5-9307-96e90c99901b",
   "metadata": {
    "scrolled": true
   },
   "outputs": [
    {
     "data": {
      "application/vnd.jupyter.widget-view+json": {
       "model_id": "441d827721a64a8bb1a334424dd64ca4",
       "version_major": 2,
       "version_minor": 0
      },
      "text/plain": [
       "RFBOutputContext()"
      ]
     },
     "metadata": {},
     "output_type": "display_data"
    },
    {
     "data": {
      "text/plain": [
       "JupyterOutputContext(children=(JupyterWgpuCanvas(), IpywidgetToolBar(children=(Button(icon='expand-arrows-alt', layout=Layout(width='auto'), style=ButtonStyle(), tooltip='auto-scale scene'), Button(icon='align-center', layout=Layout(width='auto'), style=ButtonStyle(), tooltip='auto-center scene'), ToggleButton(value=True, icon='hand-pointer', layout=Layout(width='auto'), tooltip='panzoom controller'), ToggleButton(value=True, description='1:1', layout=Layout(width='auto'), style=ToggleButtonStyle(font_weight='bold'), tooltip='maintain aspect'), Button(icon='arrow-down', layout=Layout(width='auto'), style=ButtonStyle(), tooltip='y-axis direction'), Button(icon='draw-polygon', layout=Layout(width='auto'), style=ButtonStyle(), tooltip='add PolygonSelector'), ToggleButton(value=False, icon='video', layout=Layout(width='auto'), tooltip='record'), Dropdown(description='Subplots:', layout=Layout(width='200px'), options=('(0, 0)',), value='(0, 0)'))), IpywidgetImageWidgetToolbar(children=(HBox(children=(Button(icon='adjust', layout=Layout(width='auto'), style=ButtonStyle(), tooltip='reset vmin/vmax'), Button(description='reset', icon='adjust', layout=Layout(width='auto'), style=ButtonStyle(), tooltip='reset vmin/vmax and reset histogram using current frame'), Play(value=0, description='play/pause', interval=10, max=999), BoundedIntText(value=1, description='Step Size:', layout=Layout(width='150px'), max=999, min=1, tooltip='set slider step'), BoundedIntText(value=100, description='Speed', layout=Layout(width='150px'), max=1000, min=1, step=50, tooltip='Playback speed, this is NOT framerate.\\nArbitrary units between 1 - 1,000'))), IntSlider(value=0, description='dimension: t', max=999)))))"
      ]
     },
     "execution_count": 15,
     "metadata": {},
     "output_type": "execute_result"
    }
   ],
   "source": [
    "mov = cnmf_plotter.play_gSig_draw_roi(components_type='both')\n",
    "mov.show(sidecar=True)"
   ]
  },
  {
   "cell_type": "markdown",
   "id": "a94d3842-8a9f-472d-b5b3-a1c6eb49141a",
   "metadata": {},
   "source": [
    "# Play spatial footprint"
   ]
  },
  {
   "cell_type": "code",
   "execution_count": 18,
   "id": "fba21ccc-173a-4848-a434-8a16580cbffd",
   "metadata": {
    "scrolled": true
   },
   "outputs": [
    {
     "data": {
      "application/vnd.jupyter.widget-view+json": {
       "model_id": "17d840a5a8394e449201dc387f01842b",
       "version_major": 2,
       "version_minor": 0
      },
      "text/plain": [
       "RFBOutputContext()"
      ]
     },
     "metadata": {},
     "output_type": "display_data"
    },
    {
     "data": {
      "text/plain": [
       "JupyterOutputContext(children=(JupyterWgpuCanvas(), IpywidgetToolBar(children=(Button(icon='expand-arrows-alt', layout=Layout(width='auto'), style=ButtonStyle(), tooltip='auto-scale scene'), Button(icon='align-center', layout=Layout(width='auto'), style=ButtonStyle(), tooltip='auto-center scene'), ToggleButton(value=True, icon='hand-pointer', layout=Layout(width='auto'), tooltip='panzoom controller'), ToggleButton(value=True, description='1:1', layout=Layout(width='auto'), style=ToggleButtonStyle(font_weight='bold'), tooltip='maintain aspect'), Button(icon='arrow-down', layout=Layout(width='auto'), style=ButtonStyle(), tooltip='y-axis direction'), Button(icon='draw-polygon', layout=Layout(width='auto'), style=ButtonStyle(), tooltip='add PolygonSelector'), ToggleButton(value=False, icon='video', layout=Layout(width='auto'), tooltip='record'), Dropdown(description='Subplots:', layout=Layout(width='200px'), options=('(0, 0)',), value='(0, 0)'))), IpywidgetImageWidgetToolbar(children=(HBox(children=(Button(icon='adjust', layout=Layout(width='auto'), style=ButtonStyle(), tooltip='reset vmin/vmax'), Button(description='reset', icon='adjust', layout=Layout(width='auto'), style=ButtonStyle(), tooltip='reset vmin/vmax and reset histogram using current frame'), Play(value=0, description='play/pause', interval=10, max=157), BoundedIntText(value=1, description='Step Size:', layout=Layout(width='150px'), max=157, min=1, tooltip='set slider step'), BoundedIntText(value=100, description='Speed', layout=Layout(width='150px'), max=1000, min=1, step=50, tooltip='Playback speed, this is NOT framerate.\\nArbitrary units between 1 - 1,000'))), IntSlider(value=0, description='dimension: t', max=157)))))"
      ]
     },
     "execution_count": 18,
     "metadata": {},
     "output_type": "execute_result"
    }
   ],
   "source": [
    "mov = cnmf_plotter.play_spatial_footprint(components_type='both')\n",
    "mov.show(sidecar=True)"
   ]
  },
  {
   "cell_type": "code",
   "execution_count": null,
   "id": "2b6fac0f-417b-4d53-9118-c80059c95209",
   "metadata": {},
   "outputs": [],
   "source": []
  }
 ],
 "metadata": {
  "kernelspec": {
   "display_name": "Python 3 (ipykernel)",
   "language": "python",
   "name": "python3"
  },
  "language_info": {
   "codemirror_mode": {
    "name": "ipython",
    "version": 3
   },
   "file_extension": ".py",
   "mimetype": "text/x-python",
   "name": "python",
   "nbconvert_exporter": "python",
   "pygments_lexer": "ipython3",
   "version": "3.11.7"
  }
 },
 "nbformat": 4,
 "nbformat_minor": 5
}
